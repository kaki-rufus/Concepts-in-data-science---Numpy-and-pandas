{
 "cells": [
  {
   "cell_type": "code",
   "execution_count": 1,
   "id": "80268208",
   "metadata": {},
   "outputs": [],
   "source": [
    "import pandas as pd\n",
    "import numpy as np\n",
    "import matplotlib.pyplot as plt\n",
    "import seaborn as sns"
   ]
  },
  {
   "cell_type": "code",
   "execution_count": 2,
   "id": "1b9a680b",
   "metadata": {},
   "outputs": [
    {
     "data": {
      "text/html": [
       "<div>\n",
       "<style scoped>\n",
       "    .dataframe tbody tr th:only-of-type {\n",
       "        vertical-align: middle;\n",
       "    }\n",
       "\n",
       "    .dataframe tbody tr th {\n",
       "        vertical-align: top;\n",
       "    }\n",
       "\n",
       "    .dataframe thead th {\n",
       "        text-align: right;\n",
       "    }\n",
       "</style>\n",
       "<table border=\"1\" class=\"dataframe\">\n",
       "  <thead>\n",
       "    <tr style=\"text-align: right;\">\n",
       "      <th></th>\n",
       "      <th>Product</th>\n",
       "      <th>CustomerGender</th>\n",
       "      <th>Location</th>\n",
       "      <th>Region</th>\n",
       "      <th>TotalPrice</th>\n",
       "      <th>StartDate</th>\n",
       "      <th>Deposit</th>\n",
       "      <th>DailyRate</th>\n",
       "      <th>TotalDays</th>\n",
       "      <th>AmountPaid30</th>\n",
       "      <th>AmountPaid60</th>\n",
       "      <th>AmountPaid360</th>\n",
       "      <th>LoanStatus360</th>\n",
       "    </tr>\n",
       "  </thead>\n",
       "  <tbody>\n",
       "    <tr>\n",
       "      <th>0</th>\n",
       "      <td>Product B</td>\n",
       "      <td>Male</td>\n",
       "      <td>Location 2</td>\n",
       "      <td>Region 2</td>\n",
       "      <td>16600</td>\n",
       "      <td>7/4/2014</td>\n",
       "      <td>2000</td>\n",
       "      <td>40</td>\n",
       "      <td>365</td>\n",
       "      <td>3121</td>\n",
       "      <td>4241</td>\n",
       "      <td>13621</td>\n",
       "      <td>Active</td>\n",
       "    </tr>\n",
       "    <tr>\n",
       "      <th>1</th>\n",
       "      <td>Product B</td>\n",
       "      <td>Male</td>\n",
       "      <td>Location 3</td>\n",
       "      <td>Region 3</td>\n",
       "      <td>16600</td>\n",
       "      <td>1/2/2015</td>\n",
       "      <td>2000</td>\n",
       "      <td>40</td>\n",
       "      <td>365</td>\n",
       "      <td>3061</td>\n",
       "      <td>4171</td>\n",
       "      <td>15041</td>\n",
       "      <td>Active</td>\n",
       "    </tr>\n",
       "    <tr>\n",
       "      <th>2</th>\n",
       "      <td>Product C</td>\n",
       "      <td>Female</td>\n",
       "      <td>Location 5</td>\n",
       "      <td>Region 5</td>\n",
       "      <td>15600</td>\n",
       "      <td>12/8/2012</td>\n",
       "      <td>1000</td>\n",
       "      <td>40</td>\n",
       "      <td>365</td>\n",
       "      <td>2160</td>\n",
       "      <td>3280</td>\n",
       "      <td>15340</td>\n",
       "      <td>Active</td>\n",
       "    </tr>\n",
       "    <tr>\n",
       "      <th>3</th>\n",
       "      <td>Product B</td>\n",
       "      <td>Male</td>\n",
       "      <td>Location 6</td>\n",
       "      <td>Region 1</td>\n",
       "      <td>16600</td>\n",
       "      <td>2/20/2015</td>\n",
       "      <td>2000</td>\n",
       "      <td>40</td>\n",
       "      <td>365</td>\n",
       "      <td>3041</td>\n",
       "      <td>4241</td>\n",
       "      <td>15321</td>\n",
       "      <td>Active</td>\n",
       "    </tr>\n",
       "    <tr>\n",
       "      <th>4</th>\n",
       "      <td>Product D</td>\n",
       "      <td>Female</td>\n",
       "      <td>Location 7</td>\n",
       "      <td>Region 2</td>\n",
       "      <td>20250</td>\n",
       "      <td>10/28/2013</td>\n",
       "      <td>2000</td>\n",
       "      <td>50</td>\n",
       "      <td>365</td>\n",
       "      <td>3470</td>\n",
       "      <td>4820</td>\n",
       "      <td>13720</td>\n",
       "      <td>Active</td>\n",
       "    </tr>\n",
       "  </tbody>\n",
       "</table>\n",
       "</div>"
      ],
      "text/plain": [
       "     Product CustomerGender    Location    Region  TotalPrice   StartDate  \\\n",
       "0  Product B           Male  Location 2  Region 2       16600    7/4/2014   \n",
       "1  Product B           Male  Location 3  Region 3       16600    1/2/2015   \n",
       "2  Product C         Female  Location 5  Region 5       15600   12/8/2012   \n",
       "3  Product B           Male  Location 6  Region 1       16600   2/20/2015   \n",
       "4  Product D         Female  Location 7  Region 2       20250  10/28/2013   \n",
       "\n",
       "   Deposit  DailyRate  TotalDays  AmountPaid30  AmountPaid60  AmountPaid360  \\\n",
       "0     2000         40        365          3121          4241          13621   \n",
       "1     2000         40        365          3061          4171          15041   \n",
       "2     1000         40        365          2160          3280          15340   \n",
       "3     2000         40        365          3041          4241          15321   \n",
       "4     2000         50        365          3470          4820          13720   \n",
       "\n",
       "  LoanStatus360  \n",
       "0        Active  \n",
       "1        Active  \n",
       "2        Active  \n",
       "3        Active  \n",
       "4        Active  "
      ]
     },
     "execution_count": 2,
     "metadata": {},
     "output_type": "execute_result"
    }
   ],
   "source": [
    "kopa = pd.read_csv('KOPA.csv')\n",
    "kopa.head()"
   ]
  },
  {
   "cell_type": "code",
   "execution_count": 3,
   "id": "42bc7db5",
   "metadata": {},
   "outputs": [
    {
     "name": "stdout",
     "output_type": "stream",
     "text": [
      "<class 'pandas.core.frame.DataFrame'>\n",
      "RangeIndex: 9195 entries, 0 to 9194\n",
      "Data columns (total 13 columns):\n",
      " #   Column          Non-Null Count  Dtype \n",
      "---  ------          --------------  ----- \n",
      " 0   Product         9195 non-null   object\n",
      " 1   CustomerGender  9195 non-null   object\n",
      " 2   Location        9195 non-null   object\n",
      " 3   Region          9195 non-null   object\n",
      " 4   TotalPrice      9195 non-null   int64 \n",
      " 5   StartDate       9195 non-null   object\n",
      " 6   Deposit         9195 non-null   int64 \n",
      " 7   DailyRate       9195 non-null   int64 \n",
      " 8   TotalDays       9195 non-null   int64 \n",
      " 9   AmountPaid30    9195 non-null   int64 \n",
      " 10  AmountPaid60    9195 non-null   int64 \n",
      " 11  AmountPaid360   9195 non-null   int64 \n",
      " 12  LoanStatus360   9195 non-null   object\n",
      "dtypes: int64(7), object(6)\n",
      "memory usage: 934.0+ KB\n"
     ]
    }
   ],
   "source": [
    "kopa.info()"
   ]
  },
  {
   "cell_type": "code",
   "execution_count": 4,
   "id": "a3631fe3",
   "metadata": {},
   "outputs": [
    {
     "data": {
      "text/plain": [
       "Product           0\n",
       "CustomerGender    0\n",
       "Location          0\n",
       "Region            0\n",
       "TotalPrice        0\n",
       "StartDate         0\n",
       "Deposit           0\n",
       "DailyRate         0\n",
       "TotalDays         0\n",
       "AmountPaid30      0\n",
       "AmountPaid60      0\n",
       "AmountPaid360     0\n",
       "LoanStatus360     0\n",
       "dtype: int64"
      ]
     },
     "execution_count": 4,
     "metadata": {},
     "output_type": "execute_result"
    }
   ],
   "source": [
    "#check for missing values\n",
    "kopa.isnull().sum()"
   ]
  },
  {
   "cell_type": "code",
   "execution_count": 5,
   "id": "258e58ce",
   "metadata": {},
   "outputs": [
    {
     "data": {
      "text/plain": [
       "0"
      ]
     },
     "execution_count": 5,
     "metadata": {},
     "output_type": "execute_result"
    }
   ],
   "source": [
    "#check for duplicates \n",
    "kopa.duplicated().sum()"
   ]
  },
  {
   "cell_type": "markdown",
   "id": "4986b541",
   "metadata": {},
   "source": [
    "## Machine learning"
   ]
  },
  {
   "cell_type": "markdown",
   "id": "f7c21613",
   "metadata": {},
   "source": [
    "# feature engineering \n",
    "# to check for categorical data and convert them to numerical for one to create a model"
   ]
  },
  {
   "cell_type": "code",
   "execution_count": 6,
   "id": "943b808e",
   "metadata": {},
   "outputs": [],
   "source": [
    "# make copy\n",
    "kopa_regression = kopa.copy()\n",
    "kopa_classification = kopa.copy()"
   ]
  },
  {
   "cell_type": "code",
   "execution_count": 7,
   "id": "baa99406",
   "metadata": {},
   "outputs": [
    {
     "data": {
      "text/plain": [
       "dtype('int64')"
      ]
     },
     "execution_count": 7,
     "metadata": {},
     "output_type": "execute_result"
    }
   ],
   "source": [
    "#check for categorical data\n",
    "kopa['Deposit'].dtype"
   ]
  },
  {
   "cell_type": "code",
   "execution_count": 8,
   "id": "7820865c",
   "metadata": {},
   "outputs": [
    {
     "data": {
      "text/plain": [
       "['Product',\n",
       " 'CustomerGender',\n",
       " 'Location',\n",
       " 'Region',\n",
       " 'StartDate',\n",
       " 'LoanStatus360']"
      ]
     },
     "execution_count": 8,
     "metadata": {},
     "output_type": "execute_result"
    }
   ],
   "source": [
    "cat_cols=[column for column in kopa_regression.columns if kopa_regression[column].dtype=='O']\n",
    "cat_cols"
   ]
  },
  {
   "cell_type": "markdown",
   "id": "289224b0",
   "metadata": {},
   "source": [
    "# convert categorical data into numerical data\n",
    "# done by encoding you data: you can hot encoding and label encoding"
   ]
  },
  {
   "cell_type": "code",
   "execution_count": 9,
   "id": "12c5c149",
   "metadata": {},
   "outputs": [],
   "source": [
    "#label encode our data\n",
    "from sklearn.preprocessing import LabelEncoder"
   ]
  },
  {
   "cell_type": "code",
   "execution_count": 10,
   "id": "19b6e5a3",
   "metadata": {},
   "outputs": [],
   "source": [
    "# instantiate our label encoder\n",
    "encoder = LabelEncoder()"
   ]
  },
  {
   "cell_type": "code",
   "execution_count": 11,
   "id": "d951af1d",
   "metadata": {},
   "outputs": [],
   "source": [
    "#fit and transform our categorical data\n",
    "for column in cat_cols:\n",
    "    kopa_regression[column] = encoder.fit_transform( kopa_regression[column])"
   ]
  },
  {
   "cell_type": "code",
   "execution_count": 12,
   "id": "63f2c839",
   "metadata": {},
   "outputs": [
    {
     "data": {
      "text/html": [
       "<div>\n",
       "<style scoped>\n",
       "    .dataframe tbody tr th:only-of-type {\n",
       "        vertical-align: middle;\n",
       "    }\n",
       "\n",
       "    .dataframe tbody tr th {\n",
       "        vertical-align: top;\n",
       "    }\n",
       "\n",
       "    .dataframe thead th {\n",
       "        text-align: right;\n",
       "    }\n",
       "</style>\n",
       "<table border=\"1\" class=\"dataframe\">\n",
       "  <thead>\n",
       "    <tr style=\"text-align: right;\">\n",
       "      <th></th>\n",
       "      <th>Product</th>\n",
       "      <th>CustomerGender</th>\n",
       "      <th>Location</th>\n",
       "      <th>Region</th>\n",
       "      <th>TotalPrice</th>\n",
       "      <th>StartDate</th>\n",
       "      <th>Deposit</th>\n",
       "      <th>DailyRate</th>\n",
       "      <th>TotalDays</th>\n",
       "      <th>AmountPaid30</th>\n",
       "      <th>AmountPaid60</th>\n",
       "      <th>AmountPaid360</th>\n",
       "      <th>LoanStatus360</th>\n",
       "    </tr>\n",
       "  </thead>\n",
       "  <tbody>\n",
       "    <tr>\n",
       "      <th>0</th>\n",
       "      <td>1</td>\n",
       "      <td>1</td>\n",
       "      <td>108</td>\n",
       "      <td>10</td>\n",
       "      <td>16600</td>\n",
       "      <td>1255</td>\n",
       "      <td>2000</td>\n",
       "      <td>40</td>\n",
       "      <td>365</td>\n",
       "      <td>3121</td>\n",
       "      <td>4241</td>\n",
       "      <td>13621</td>\n",
       "      <td>0</td>\n",
       "    </tr>\n",
       "    <tr>\n",
       "      <th>1</th>\n",
       "      <td>1</td>\n",
       "      <td>1</td>\n",
       "      <td>219</td>\n",
       "      <td>11</td>\n",
       "      <td>16600</td>\n",
       "      <td>44</td>\n",
       "      <td>2000</td>\n",
       "      <td>40</td>\n",
       "      <td>365</td>\n",
       "      <td>3061</td>\n",
       "      <td>4171</td>\n",
       "      <td>15041</td>\n",
       "      <td>0</td>\n",
       "    </tr>\n",
       "    <tr>\n",
       "      <th>2</th>\n",
       "      <td>2</td>\n",
       "      <td>0</td>\n",
       "      <td>441</td>\n",
       "      <td>13</td>\n",
       "      <td>15600</td>\n",
       "      <td>470</td>\n",
       "      <td>1000</td>\n",
       "      <td>40</td>\n",
       "      <td>365</td>\n",
       "      <td>2160</td>\n",
       "      <td>3280</td>\n",
       "      <td>15340</td>\n",
       "      <td>0</td>\n",
       "    </tr>\n",
       "    <tr>\n",
       "      <th>3</th>\n",
       "      <td>1</td>\n",
       "      <td>1</td>\n",
       "      <td>552</td>\n",
       "      <td>0</td>\n",
       "      <td>16600</td>\n",
       "      <td>532</td>\n",
       "      <td>2000</td>\n",
       "      <td>40</td>\n",
       "      <td>365</td>\n",
       "      <td>3041</td>\n",
       "      <td>4241</td>\n",
       "      <td>15321</td>\n",
       "      <td>0</td>\n",
       "    </tr>\n",
       "    <tr>\n",
       "      <th>4</th>\n",
       "      <td>3</td>\n",
       "      <td>0</td>\n",
       "      <td>659</td>\n",
       "      <td>10</td>\n",
       "      <td>20250</td>\n",
       "      <td>201</td>\n",
       "      <td>2000</td>\n",
       "      <td>50</td>\n",
       "      <td>365</td>\n",
       "      <td>3470</td>\n",
       "      <td>4820</td>\n",
       "      <td>13720</td>\n",
       "      <td>0</td>\n",
       "    </tr>\n",
       "  </tbody>\n",
       "</table>\n",
       "</div>"
      ],
      "text/plain": [
       "   Product  CustomerGender  Location  Region  TotalPrice  StartDate  Deposit  \\\n",
       "0        1               1       108      10       16600       1255     2000   \n",
       "1        1               1       219      11       16600         44     2000   \n",
       "2        2               0       441      13       15600        470     1000   \n",
       "3        1               1       552       0       16600        532     2000   \n",
       "4        3               0       659      10       20250        201     2000   \n",
       "\n",
       "   DailyRate  TotalDays  AmountPaid30  AmountPaid60  AmountPaid360  \\\n",
       "0         40        365          3121          4241          13621   \n",
       "1         40        365          3061          4171          15041   \n",
       "2         40        365          2160          3280          15340   \n",
       "3         40        365          3041          4241          15321   \n",
       "4         50        365          3470          4820          13720   \n",
       "\n",
       "   LoanStatus360  \n",
       "0              0  \n",
       "1              0  \n",
       "2              0  \n",
       "3              0  \n",
       "4              0  "
      ]
     },
     "execution_count": 12,
     "metadata": {},
     "output_type": "execute_result"
    }
   ],
   "source": [
    "kopa_regression.head()"
   ]
  },
  {
   "cell_type": "markdown",
   "id": "7b44c4d3",
   "metadata": {},
   "source": [
    "# check correlation\n",
    "# Correlation is used to check the measure of linear relationships of two variables or bivariate data\n",
    "# A heatmap is used to check correlation of different variables\n",
    "# A scatter plot is also used to check for correlation of variables\n",
    "# fields with high correlation variables above 0.9 are dropped"
   ]
  },
  {
   "cell_type": "code",
   "execution_count": 1,
   "id": "9e0fd834",
   "metadata": {},
   "outputs": [
    {
     "ename": "NameError",
     "evalue": "name 'kopa_regression' is not defined",
     "output_type": "error",
     "traceback": [
      "\u001b[1;31m---------------------------------------------------------------------------\u001b[0m",
      "\u001b[1;31mNameError\u001b[0m                                 Traceback (most recent call last)",
      "\u001b[1;32m<ipython-input-1-265d4ddee46b>\u001b[0m in \u001b[0;36m<module>\u001b[1;34m\u001b[0m\n\u001b[0;32m      1\u001b[0m \u001b[1;31m# create a correlation matrix\u001b[0m\u001b[1;33m\u001b[0m\u001b[1;33m\u001b[0m\u001b[1;33m\u001b[0m\u001b[0m\n\u001b[1;32m----> 2\u001b[1;33m \u001b[0mcor_matrix\u001b[0m \u001b[1;33m=\u001b[0m \u001b[0mkopa_regression\u001b[0m\u001b[1;33m.\u001b[0m\u001b[0mcorr\u001b[0m\u001b[1;33m(\u001b[0m\u001b[1;33m)\u001b[0m\u001b[1;33m\u001b[0m\u001b[1;33m\u001b[0m\u001b[0m\n\u001b[0m",
      "\u001b[1;31mNameError\u001b[0m: name 'kopa_regression' is not defined"
     ]
    }
   ],
   "source": [
    "# create a correlation matrix\n",
    "cor_matrix = kopa_regression.corr()"
   ]
  },
  {
   "cell_type": "code",
   "execution_count": 14,
   "id": "f29f0f13",
   "metadata": {},
   "outputs": [
    {
     "data": {
      "text/plain": [
       "<AxesSubplot:>"
      ]
     },
     "execution_count": 14,
     "metadata": {},
     "output_type": "execute_result"
    },
    {
     "data": {
      "image/png": "[encoded data removed]",
      "text/plain": [
       "<Figure size 720x576 with 2 Axes>"
      ]
     },
     "metadata": {
      "needs_background": "light"
     },
     "output_type": "display_data"
    }
   ],
   "source": [
    "# do visualization: use heatmap\n",
    "plt.figure(figsize=(10,8))\n",
    "sns.heatmap(cor_matrix, annot=True)"
   ]
  },
  {
   "cell_type": "code",
   "execution_count": 15,
   "id": "df9d313c",
   "metadata": {},
   "outputs": [],
   "source": [
    "kopa_regression.drop(['Location','StartDate','DailyRate','TotalDays','AmountPaid30'], axis=1, inplace=True)"
   ]
  },
  {
   "cell_type": "code",
   "execution_count": 16,
   "id": "2de6be27",
   "metadata": {},
   "outputs": [
    {
     "data": {
      "text/html": [
       "<div>\n",
       "<style scoped>\n",
       "    .dataframe tbody tr th:only-of-type {\n",
       "        vertical-align: middle;\n",
       "    }\n",
       "\n",
       "    .dataframe tbody tr th {\n",
       "        vertical-align: top;\n",
       "    }\n",
       "\n",
       "    .dataframe thead th {\n",
       "        text-align: right;\n",
       "    }\n",
       "</style>\n",
       "<table border=\"1\" class=\"dataframe\">\n",
       "  <thead>\n",
       "    <tr style=\"text-align: right;\">\n",
       "      <th></th>\n",
       "      <th>Product</th>\n",
       "      <th>CustomerGender</th>\n",
       "      <th>Region</th>\n",
       "      <th>TotalPrice</th>\n",
       "      <th>Deposit</th>\n",
       "      <th>AmountPaid60</th>\n",
       "      <th>AmountPaid360</th>\n",
       "      <th>LoanStatus360</th>\n",
       "    </tr>\n",
       "  </thead>\n",
       "  <tbody>\n",
       "    <tr>\n",
       "      <th>0</th>\n",
       "      <td>1</td>\n",
       "      <td>1</td>\n",
       "      <td>10</td>\n",
       "      <td>16600</td>\n",
       "      <td>2000</td>\n",
       "      <td>4241</td>\n",
       "      <td>13621</td>\n",
       "      <td>0</td>\n",
       "    </tr>\n",
       "    <tr>\n",
       "      <th>1</th>\n",
       "      <td>1</td>\n",
       "      <td>1</td>\n",
       "      <td>11</td>\n",
       "      <td>16600</td>\n",
       "      <td>2000</td>\n",
       "      <td>4171</td>\n",
       "      <td>15041</td>\n",
       "      <td>0</td>\n",
       "    </tr>\n",
       "    <tr>\n",
       "      <th>2</th>\n",
       "      <td>2</td>\n",
       "      <td>0</td>\n",
       "      <td>13</td>\n",
       "      <td>15600</td>\n",
       "      <td>1000</td>\n",
       "      <td>3280</td>\n",
       "      <td>15340</td>\n",
       "      <td>0</td>\n",
       "    </tr>\n",
       "    <tr>\n",
       "      <th>3</th>\n",
       "      <td>1</td>\n",
       "      <td>1</td>\n",
       "      <td>0</td>\n",
       "      <td>16600</td>\n",
       "      <td>2000</td>\n",
       "      <td>4241</td>\n",
       "      <td>15321</td>\n",
       "      <td>0</td>\n",
       "    </tr>\n",
       "    <tr>\n",
       "      <th>4</th>\n",
       "      <td>3</td>\n",
       "      <td>0</td>\n",
       "      <td>10</td>\n",
       "      <td>20250</td>\n",
       "      <td>2000</td>\n",
       "      <td>4820</td>\n",
       "      <td>13720</td>\n",
       "      <td>0</td>\n",
       "    </tr>\n",
       "  </tbody>\n",
       "</table>\n",
       "</div>"
      ],
      "text/plain": [
       "   Product  CustomerGender  Region  TotalPrice  Deposit  AmountPaid60  \\\n",
       "0        1               1      10       16600     2000          4241   \n",
       "1        1               1      11       16600     2000          4171   \n",
       "2        2               0      13       15600     1000          3280   \n",
       "3        1               1       0       16600     2000          4241   \n",
       "4        3               0      10       20250     2000          4820   \n",
       "\n",
       "   AmountPaid360  LoanStatus360  \n",
       "0          13621              0  \n",
       "1          15041              0  \n",
       "2          15340              0  \n",
       "3          15321              0  \n",
       "4          13720              0  "
      ]
     },
     "execution_count": 16,
     "metadata": {},
     "output_type": "execute_result"
    }
   ],
   "source": [
    "kopa_regression.head()"
   ]
  },
  {
   "cell_type": "markdown",
   "id": "cf2c1a89",
   "metadata": {},
   "source": [
    "# modelling "
   ]
  },
  {
   "cell_type": "markdown",
   "id": "190f915a",
   "metadata": {},
   "source": [
    "## linear model"
   ]
  },
  {
   "cell_type": "code",
   "execution_count": 17,
   "id": "064c9a08",
   "metadata": {},
   "outputs": [],
   "source": [
    "# first is to seperate the target variable from the rest of the variables in a supervised learning type of modelling\n",
    "# seperate x and y\n",
    "x = kopa_regression.drop(['AmountPaid360'], axis =1) # feature variables\n",
    "y = kopa_regression['AmountPaid360']"
   ]
  },
  {
   "cell_type": "code",
   "execution_count": 18,
   "id": "57947f8f",
   "metadata": {},
   "outputs": [],
   "source": [
    "# split data into training and testing data\n",
    "\n",
    "from sklearn.model_selection import train_test_split\n",
    "\n",
    "x_train,x_test,y_train,y_test = train_test_split(x,y, test_size=0.2, random_state=2)"
   ]
  },
  {
   "cell_type": "code",
   "execution_count": 19,
   "id": "e3e15b87",
   "metadata": {},
   "outputs": [],
   "source": [
    "# create our first model, import the necessary models and metrics\n",
    "\n",
    "from sklearn.linear_model import LinearRegression\n",
    "\n",
    "from sklearn.metrics import mean_absolute_error, mean_squared_error"
   ]
  },
  {
   "cell_type": "code",
   "execution_count": 20,
   "id": "8a7005d3",
   "metadata": {},
   "outputs": [
    {
     "name": "stdout",
     "output_type": "stream",
     "text": [
      "[13708.09906397 14743.83309801 42201.66627071 ... 17443.52229171\n",
      " 14873.96077683 12032.67812307]\n",
      "5154    15501\n",
      "8974    16600\n",
      "5017    39762\n",
      "144     14936\n",
      "7312     7811\n",
      "        ...  \n",
      "3515     7000\n",
      "7217     4760\n",
      "5209    13510\n",
      "9064    16600\n",
      "2279    12700\n",
      "Name: AmountPaid360, Length: 1839, dtype: int64\n",
      "3176.6749347351683\n"
     ]
    }
   ],
   "source": [
    "# instantiate the model\n",
    "linear = LinearRegression()\n",
    "\n",
    "# train our model\n",
    "linear.fit(x_train, y_train)\n",
    "\n",
    "#test our model\n",
    "predictions = linear.predict(x_test)\n",
    "print(predictions)\n",
    "print(y_test)\n",
    "linear.score(x_test,y_test)\n",
    "\n",
    "#evaluate our model\n",
    "error = mean_absolute_error (y_test, predictions)\n",
    "\n",
    "print(error)"
   ]
  },
  {
   "cell_type": "markdown",
   "id": "ec5466d0",
   "metadata": {},
   "source": [
    "## Decision tree"
   ]
  },
  {
   "cell_type": "code",
   "execution_count": 21,
   "id": "602fc651",
   "metadata": {},
   "outputs": [],
   "source": [
    "from sklearn.tree import DecisionTreeRegressor"
   ]
  },
  {
   "cell_type": "code",
   "execution_count": 22,
   "id": "8ce1a81e",
   "metadata": {},
   "outputs": [
    {
     "name": "stdout",
     "output_type": "stream",
     "text": [
      "2178.1760026107563\n"
     ]
    }
   ],
   "source": [
    "# instantiate the model\n",
    "dt = DecisionTreeRegressor()\n",
    "\n",
    "# train the model\n",
    "dt.fit(x_train, y_train)\n",
    "\n",
    "# test the model\n",
    "predictions = dt.predict(x_test)\n",
    "\n",
    "# evaluate the model\n",
    "error = mean_absolute_error (y_test, predictions)\n",
    "print(error)"
   ]
  },
  {
   "cell_type": "markdown",
   "id": "a931efeb",
   "metadata": {},
   "source": [
    "## Random Forest"
   ]
  },
  {
   "cell_type": "code",
   "execution_count": 23,
   "id": "8d94dc9e",
   "metadata": {},
   "outputs": [],
   "source": [
    "from sklearn.ensemble import RandomForestRegressor"
   ]
  },
  {
   "cell_type": "code",
   "execution_count": 24,
   "id": "dc0ac11a",
   "metadata": {},
   "outputs": [
    {
     "name": "stdout",
     "output_type": "stream",
     "text": [
      "1867.0389494937908\n"
     ]
    },
    {
     "data": {
      "text/plain": [
       "0.8560218698136067"
      ]
     },
     "execution_count": 24,
     "metadata": {},
     "output_type": "execute_result"
    }
   ],
   "source": [
    "# instantiate the model\n",
    "RF = RandomForestRegressor()\n",
    "\n",
    "# train the model\n",
    "RF.fit(x_train, y_train)\n",
    "\n",
    "# test the model\n",
    "predictions = RF.predict(x_test)\n",
    "\n",
    "# evaluate the model\n",
    "error = mean_absolute_error (y_test, predictions)\n",
    "print(error)\n",
    "\n",
    "RF.score(x_test, y_test)"
   ]
  },
  {
   "cell_type": "code",
   "execution_count": 35,
   "id": "b2687635",
   "metadata": {},
   "outputs": [
    {
     "ename": "NameError",
     "evalue": "name 'hey' is not defined",
     "output_type": "error",
     "traceback": [
      "\u001b[1;31m---------------------------------------------------------------------------\u001b[0m",
      "\u001b[1;31mNameError\u001b[0m                                 Traceback (most recent call last)",
      "\u001b[1;32m<ipython-input-35-7aea02175315>\u001b[0m in \u001b[0;36m<module>\u001b[1;34m\u001b[0m\n\u001b[1;32m----> 1\u001b[1;33m \u001b[0mhey\u001b[0m\u001b[1;33m\u001b[0m\u001b[1;33m\u001b[0m\u001b[0m\n\u001b[0m",
      "\u001b[1;31mNameError\u001b[0m: name 'hey' is not defined"
     ]
    }
   ],
   "source": [
    "hey"
   ]
  },
  {
   "cell_type": "code",
   "execution_count": null,
   "id": "cbabe66e",
   "metadata": {},
   "outputs": [],
   "source": []
  }
 ],
 "metadata": {
  "kernelspec": {
   "display_name": "Python 3",
   "language": "python",
   "name": "python3"
  },
  "language_info": {
   "codemirror_mode": {
    "name": "ipython",
    "version": 3
   },
   "file_extension": ".py",
   "mimetype": "text/x-python",
   "name": "python",
   "nbconvert_exporter": "python",
   "pygments_lexer": "ipython3",
   "version": "3.8.8"
  }
 },
 "nbformat": 4,
 "nbformat_minor": 5
}
